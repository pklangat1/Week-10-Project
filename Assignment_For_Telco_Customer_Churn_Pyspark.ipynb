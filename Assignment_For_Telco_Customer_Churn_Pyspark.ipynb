{
  "nbformat": 4,
  "nbformat_minor": 0,
  "metadata": {
    "colab": {
      "provenance": [],
      "toc_visible": true
    },
    "kernelspec": {
      "name": "python3",
      "display_name": "Python 3"
    },
    "language_info": {
      "name": "python"
    }
  },
  "cells": [
    {
      "cell_type": "markdown",
      "source": [
        "# Project For: Telecom Customer Churn Prediction using PySpark"
      ],
      "metadata": {
        "id": "pN829yHaQggG"
      }
    },
    {
      "cell_type": "markdown",
      "source": [
        "<h3><b>Background briefing</b></h3>\n",
        "Customer churn is a significant challenge in the telecom industry. Identifying customers who are\n",
        "likely to churn is crucial for implementing proactive measures to retain them.\n"
      ],
      "metadata": {
        "id": "-eFxmn-9Qq1v"
      }
    },
    {
      "cell_type": "markdown",
      "source": [
        "## Problem Statement"
      ],
      "metadata": {
        "id": "vIbailHcQ5xI"
      }
    },
    {
      "cell_type": "markdown",
      "source": [
        "The goal of this project is to develop a machine learning model using PySpark that <b><i>accurately\n",
        "predicts customer churn in a telecom company. The model should achieve a minimum accuracy of\n",
        "0.8,</i></b> enabling the company to proactively identify and retain customers at risk of leaving. By\n",
        "effectively predicting churn, the company can implement targeted retention strategies, reduce\n",
        "customer attrition, and improve overall business performance."
      ],
      "metadata": {
        "id": "6ozaPrW0RB3L"
      }
    },
    {
      "cell_type": "markdown",
      "source": [
        "## Solution Steps"
      ],
      "metadata": {
        "id": "Femiv79eRl2l"
      }
    },
    {
      "cell_type": "code",
      "source": [
        "#Prequisite installation\n",
        "#install pyspark\n",
        "!pip install pyspark"
      ],
      "metadata": {
        "colab": {
          "base_uri": "https://localhost:8080/"
        },
        "id": "KRV5SYyobmhp",
        "outputId": "eb9e5322-2b8c-4507-836e-f546f8ebf48d"
      },
      "execution_count": 4,
      "outputs": [
        {
          "output_type": "stream",
          "name": "stdout",
          "text": [
            "Looking in indexes: https://pypi.org/simple, https://us-python.pkg.dev/colab-wheels/public/simple/\n",
            "Collecting pyspark\n",
            "  Downloading pyspark-3.4.0.tar.gz (310.8 MB)\n",
            "\u001b[2K     \u001b[90m━━━━━━━━━━━━━━━━━━━━━━━━━━━━━━━━━━━━━━━\u001b[0m \u001b[32m310.8/310.8 MB\u001b[0m \u001b[31m2.9 MB/s\u001b[0m eta \u001b[36m0:00:00\u001b[0m\n",
            "\u001b[?25h  Preparing metadata (setup.py) ... \u001b[?25l\u001b[?25hdone\n",
            "Requirement already satisfied: py4j==0.10.9.7 in /usr/local/lib/python3.10/dist-packages (from pyspark) (0.10.9.7)\n",
            "Building wheels for collected packages: pyspark\n",
            "  Building wheel for pyspark (setup.py) ... \u001b[?25l\u001b[?25hdone\n",
            "  Created wheel for pyspark: filename=pyspark-3.4.0-py2.py3-none-any.whl size=311317130 sha256=8f7b99440e2020aa1639e4ed3fe46d33eecccaac5a2240c5adfdc12a9caed195\n",
            "  Stored in directory: /root/.cache/pip/wheels/7b/1b/4b/3363a1d04368e7ff0d408e57ff57966fcdf00583774e761327\n",
            "Successfully built pyspark\n",
            "Installing collected packages: pyspark\n",
            "Successfully installed pyspark-3.4.0\n"
          ]
        }
      ]
    },
    {
      "cell_type": "code",
      "source": [
        "## Import the libraries\n",
        "from pyspark.sql.session import SparkSession\n",
        "from pyspark import SparkContext\n",
        "import os\n",
        "import urllib.request\n",
        "from pyspark.sql.functions import col\n",
        "import matplotlib.pyplot as plt\n",
        "import pyspark.sql.functions as F\n",
        "\n",
        "from pyspark.ml import Pipeline\n",
        "from pyspark.ml.classification import LogisticRegression, RandomForestClassifier, DecisionTreeClassifier\n",
        "from pyspark.ml.evaluation import BinaryClassificationEvaluator,MulticlassClassificationEvaluator\n",
        "from pyspark.ml.tuning import ParamGridBuilder, CrossValidator\n",
        "from pyspark.ml.feature import VectorAssembler, StringIndexer, StandardScaler, MinMaxScaler\n"
      ],
      "metadata": {
        "id": "AYuP1rXdaazs"
      },
      "execution_count": 5,
      "outputs": []
    },
    {
      "cell_type": "code",
      "source": [
        "# Create a SparkSession\n",
        "spark = SparkSession.builder.appName(\"DataChurn\").getOrCreate()\n",
        "\n",
        "# Local file path to save the downloaded CSV file\n",
        "local_file_path = os.getcwd() + \"/telecom_dataset.csv\"\n",
        "\n",
        "#Dataset URL\n",
        "csv_url = \"https://archive.org/download/telecom_dataset/telecom_dataset.csv\"\n",
        "\n"
      ],
      "metadata": {
        "id": "SXPb1bpYamnr"
      },
      "execution_count": 6,
      "outputs": []
    },
    {
      "cell_type": "code",
      "source": [
        "# Download the CSV file\n",
        "urllib.request.urlretrieve(csv_url, local_file_path)\n",
        "\n",
        "# Fetch and load dataset: https://archive.org/download/telecom_dataset/telecom_dataset.csv\n",
        "df = spark.read.csv(local_file_path, header=True)\n",
        "\n"
      ],
      "metadata": {
        "id": "jIgtJpTjfwB1"
      },
      "execution_count": 7,
      "outputs": []
    },
    {
      "cell_type": "markdown",
      "source": [
        "### Initial Data Exploration"
      ],
      "metadata": {
        "id": "VlkrDmQgemv1"
      }
    },
    {
      "cell_type": "code",
      "source": [
        "#Preview df data \n",
        "df.show()"
      ],
      "metadata": {
        "colab": {
          "base_uri": "https://localhost:8080/"
        },
        "id": "y49eKXgah8d_",
        "outputId": "6e56a048-0fa5-4379-cdbb-6fc322f1f164"
      },
      "execution_count": 8,
      "outputs": [
        {
          "output_type": "stream",
          "name": "stdout",
          "text": [
            "+----------+------+---+--------------+--------------+------------+-----+\n",
            "|CustomerID|Gender|Age|      Contract|MonthlyCharges|TotalCharges|Churn|\n",
            "+----------+------+---+--------------+--------------+------------+-----+\n",
            "|         1|Female| 25|Month-to-Month|          65.7|       156.5|   No|\n",
            "|         2|  Male| 37|      One Year|          89.0|      2356.8|   No|\n",
            "|         3|  Male| 52|      Two Year|         115.5|      5408.6|   No|\n",
            "|         4|Female| 30|Month-to-Month|          75.9|       129.4|  Yes|\n",
            "|         5|  Male| 45|      One Year|          98.2|      3142.0|   No|\n",
            "|         6|Female| 55|      Two Year|          99.9|      6541.5|   No|\n",
            "|         7|  Male| 32|Month-to-Month|          82.1|       267.7|  Yes|\n",
            "|         8|Female| 28|Month-to-Month|          61.5|       346.9|   No|\n",
            "|         9|  Male| 48|      One Year|         101.8|      5149.6|  Yes|\n",
            "|        10|Female| 60|      Two Year|         108.1|      6742.8|  Yes|\n",
            "|        11|  Male| 42|Month-to-Month|          78.9|       547.6|   No|\n",
            "|        12|Female| 35|      One Year|          94.7|      1950.2|   No|\n",
            "|        13|  Male| 41|      Two Year|          96.5|      4188.1|   No|\n",
            "|        14|  Male| 38|Month-to-Month|          79.1|       148.2|  Yes|\n",
            "|        15|Female| 50|      One Year|         105.5|      4759.1|  Yes|\n",
            "|        16|  Male| 47|      Two Year|         112.3|      5432.0|  Yes|\n",
            "|        17|Female| 26|Month-to-Month|          68.2|       289.1|   No|\n",
            "|        18|  Male| 33|Month-to-Month|          75.5|       462.5|  Yes|\n",
            "|        19|Female| 31|      One Year|          85.9|      1673.8|   No|\n",
            "|        20|  Male| 39|      Two Year|          97.1|      3992.4|   No|\n",
            "+----------+------+---+--------------+--------------+------------+-----+\n",
            "\n"
          ]
        }
      ]
    },
    {
      "cell_type": "code",
      "source": [
        "#Check df shape\n",
        "# Number of columns\n",
        "num_columns = len(df.columns)\n",
        "print(\"Number of columns:\", num_columns)\n",
        "\n",
        "# Number of rows\n",
        "num_rows = df.count()\n",
        "print(\"Number of rows:\", num_rows)"
      ],
      "metadata": {
        "colab": {
          "base_uri": "https://localhost:8080/"
        },
        "id": "xEG9-rV6iVWX",
        "outputId": "3c8a84a3-fdbb-4897-da6d-896c4f610e5f"
      },
      "execution_count": 9,
      "outputs": [
        {
          "output_type": "stream",
          "name": "stdout",
          "text": [
            "Number of columns: 7\n",
            "Number of rows: 20\n"
          ]
        }
      ]
    },
    {
      "cell_type": "code",
      "source": [
        "#View df schema\n",
        "df.printSchema()"
      ],
      "metadata": {
        "colab": {
          "base_uri": "https://localhost:8080/"
        },
        "id": "f8TQcLJOiAWB",
        "outputId": "4199bb88-4870-4e97-efb5-bd48f8aaa367"
      },
      "execution_count": 10,
      "outputs": [
        {
          "output_type": "stream",
          "name": "stdout",
          "text": [
            "root\n",
            " |-- CustomerID: string (nullable = true)\n",
            " |-- Gender: string (nullable = true)\n",
            " |-- Age: string (nullable = true)\n",
            " |-- Contract: string (nullable = true)\n",
            " |-- MonthlyCharges: string (nullable = true)\n",
            " |-- TotalCharges: string (nullable = true)\n",
            " |-- Churn: string (nullable = true)\n",
            "\n"
          ]
        }
      ]
    },
    {
      "cell_type": "code",
      "source": [
        "#Do some aggregations ...\n",
        "#Explore Gender vs Churn stats\n",
        "# Group the data by Gender and Churn and count the occurrences\n",
        "gender_churn_counts = df.groupby('Gender', 'Churn').count().toPandas()\n",
        "\n",
        "# Define the colors for \"No\" and \"Yes\"\n",
        "colors = ['green', 'red']\n",
        "\n",
        "# Plot the bar chart\n",
        "plt.bar(gender_churn_counts['Gender'], gender_churn_counts['count'], color=['green', 'red'])\n",
        "\n",
        "# Add labels and title\n",
        "plt.xlabel('Gender')\n",
        "plt.ylabel('Count')\n",
        "plt.title('Gender vs Churn')\n",
        "\n",
        "# Create a legend\n",
        "legend_labels = ['No', 'Yes']\n",
        "legend_patches = [plt.Rectangle((0, 0), 1, 1, color=color) for color in colors]\n",
        "plt.legend(legend_patches, legend_labels)\n",
        "\n",
        "# Display the chart\n",
        "plt.show()"
      ],
      "metadata": {
        "colab": {
          "base_uri": "https://localhost:8080/",
          "height": 472
        },
        "id": "E0S6aFqrkLXl",
        "outputId": "dbeecde8-8986-4687-b3d3-dd929e3d1cbb"
      },
      "execution_count": 11,
      "outputs": [
        {
          "output_type": "display_data",
          "data": {
            "text/plain": [
              "<Figure size 640x480 with 1 Axes>"
            ],
            "image/png": "[encoded data removed]"
          },
          "metadata": {}
        }
      ]
    },
    {
      "cell_type": "code",
      "source": [
        "#Explore Age feature\n",
        "# Extract the Age column as a list\n",
        "age_values = df.select('Age').rdd.flatMap(lambda x: x).collect()\n",
        "\n",
        "# Sort the age values in ascending order\n",
        "age_values.sort()\n",
        "\n",
        "# Plot the histogram\n",
        "plt.hist(age_values, bins='auto', edgecolor='yellow')\n",
        "plt.xlabel('Age')\n",
        "plt.ylabel('Frequency')\n",
        "plt.title('Age Histogram')\n",
        "plt.show()\n",
        "\n"
      ],
      "metadata": {
        "colab": {
          "base_uri": "https://localhost:8080/",
          "height": 472
        },
        "id": "HKsNUPAGmhVt",
        "outputId": "f593b85e-b3d3-49be-cb39-a8f5447f9015"
      },
      "execution_count": 12,
      "outputs": [
        {
          "output_type": "display_data",
          "data": {
            "text/plain": [
              "<Figure size 640x480 with 1 Axes>"
            ],
            "image/png": "[encoded data removed]"
          },
          "metadata": {}
        }
      ]
    },
    {
      "cell_type": "markdown",
      "source": [
        "### Data Preprocessing"
      ],
      "metadata": {
        "id": "03sMMksDR3po"
      }
    },
    {
      "cell_type": "code",
      "source": [
        "#Drop nulls \n",
        "# Drop null rows\n",
        "df = df.na.drop()\n",
        "\n",
        "# Verify the result\n",
        "print(\"Shape of DataFrame: {} rows, {} columns\".format(df.count(), len(df.columns)))"
      ],
      "metadata": {
        "colab": {
          "base_uri": "https://localhost:8080/"
        },
        "id": "VeW-XQc4pta3",
        "outputId": "ba98a352-0291-4a3e-be6a-9be7c56223e3"
      },
      "execution_count": 13,
      "outputs": [
        {
          "output_type": "stream",
          "name": "stdout",
          "text": [
            "Shape of DataFrame: 20 rows, 7 columns\n"
          ]
        }
      ]
    },
    {
      "cell_type": "code",
      "source": [
        "#Drop duplicate row entries\n",
        "df = df.dropDuplicates()\n",
        "\n",
        "# Verify the result\n",
        "print(\"Shape of DataFrame: {} rows, {} columns\".format(df.count(), len(df.columns)))"
      ],
      "metadata": {
        "colab": {
          "base_uri": "https://localhost:8080/"
        },
        "id": "0hyexhgJqj8k",
        "outputId": "dc0af435-4471-40c8-db0b-1abebd7470fa"
      },
      "execution_count": 14,
      "outputs": [
        {
          "output_type": "stream",
          "name": "stdout",
          "text": [
            "Shape of DataFrame: 20 rows, 7 columns\n"
          ]
        }
      ]
    },
    {
      "cell_type": "code",
      "source": [
        "#Cast numeric columns from string type to integer or float\n",
        "# Convert Age column to integer type\n",
        "updated_df = df.withColumn(\"Age\", col(\"Age\").cast(\"integer\"))\n",
        "\n",
        "# Convert MonthlyCharges column to float type\n",
        "updated_df = updated_df.withColumn(\"MonthlyCharges\", col(\"MonthlyCharges\").cast(\"float\"))\n",
        "\n",
        "# Convert TotalCharges column to float type\n",
        "updated_df = updated_df.withColumn(\"TotalCharges\", col(\"TotalCharges\").cast(\"float\"))\n",
        "\n",
        "#View updated schema\n",
        "updated_df.printSchema()"
      ],
      "metadata": {
        "colab": {
          "base_uri": "https://localhost:8080/"
        },
        "id": "iEAk6goqryLb",
        "outputId": "7fb61dfb-5b99-4758-f3fc-f5620435ebed"
      },
      "execution_count": 15,
      "outputs": [
        {
          "output_type": "stream",
          "name": "stdout",
          "text": [
            "root\n",
            " |-- CustomerID: string (nullable = true)\n",
            " |-- Gender: string (nullable = true)\n",
            " |-- Age: integer (nullable = true)\n",
            " |-- Contract: string (nullable = true)\n",
            " |-- MonthlyCharges: float (nullable = true)\n",
            " |-- TotalCharges: float (nullable = true)\n",
            " |-- Churn: string (nullable = true)\n",
            "\n"
          ]
        }
      ]
    },
    {
      "cell_type": "markdown",
      "source": [
        "### Feature Engineering "
      ],
      "metadata": {
        "id": "VMmxOHy3R6q5"
      }
    },
    {
      "cell_type": "code",
      "source": [
        "#Add Age_group column\n",
        "\n",
        "# Create a new column 'Age_group' based on 'Age' column\n",
        "df_with_age_group = updated_df.withColumn(\n",
        "    'Age_group',\n",
        "    F.when((F.col('Age') >= 0) & (F.col('Age') < 5), '0-4')\n",
        "    .when((F.col('Age') >= 5) & (F.col('Age') < 10), '5-9')\n",
        "    .when((F.col('Age') >= 10) & (F.col('Age') < 15), '10-14')\n",
        "    .when((F.col('Age') >= 15) & (F.col('Age') < 20), '15-19')\n",
        "    .when((F.col('Age') >= 20) & (F.col('Age') < 25), '20-24')\n",
        "    .when((F.col('Age') >= 25) & (F.col('Age') < 30), '25-29')\n",
        "    .when((F.col('Age') >= 30) & (F.col('Age') < 35), '30-34')\n",
        "    .when((F.col('Age') >= 35) & (F.col('Age') < 40), '35-39')\n",
        "    .when((F.col('Age') >= 40) & (F.col('Age') < 45), '40-44')\n",
        "    .when((F.col('Age') >= 45) & (F.col('Age') < 50), '45-49')\n",
        "    .when((F.col('Age') >= 50) & (F.col('Age') < 55), '50-54')\n",
        "    .when((F.col('Age') >= 55) & (F.col('Age') < 60), '55-59')\n",
        "    .when((F.col('Age') >= 60) & (F.col('Age') < 65), '60-64')\n",
        "    .otherwise('65+')\n",
        ")\n",
        "\n",
        "# Show the updated DataFrame\n",
        "df_with_age_group.show()\n"
      ],
      "metadata": {
        "colab": {
          "base_uri": "https://localhost:8080/"
        },
        "id": "2ic74CMUr6xI",
        "outputId": "d0f9e034-4fa7-42d9-8f5d-13ef386219a9"
      },
      "execution_count": 16,
      "outputs": [
        {
          "output_type": "stream",
          "name": "stdout",
          "text": [
            "+----------+------+---+--------------+--------------+------------+-----+---------+\n",
            "|CustomerID|Gender|Age|      Contract|MonthlyCharges|TotalCharges|Churn|Age_group|\n",
            "+----------+------+---+--------------+--------------+------------+-----+---------+\n",
            "|        16|  Male| 47|      Two Year|         112.3|      5432.0|  Yes|    45-49|\n",
            "|        20|  Male| 39|      Two Year|          97.1|      3992.4|   No|    35-39|\n",
            "|        17|Female| 26|Month-to-Month|          68.2|       289.1|   No|    25-29|\n",
            "|        11|  Male| 42|Month-to-Month|          78.9|       547.6|   No|    40-44|\n",
            "|        18|  Male| 33|Month-to-Month|          75.5|       462.5|  Yes|    30-34|\n",
            "|         7|  Male| 32|Month-to-Month|          82.1|       267.7|  Yes|    30-34|\n",
            "|         4|Female| 30|Month-to-Month|          75.9|       129.4|  Yes|    30-34|\n",
            "|         8|Female| 28|Month-to-Month|          61.5|       346.9|   No|    25-29|\n",
            "|        10|Female| 60|      Two Year|         108.1|      6742.8|  Yes|    60-64|\n",
            "|        13|  Male| 41|      Two Year|          96.5|      4188.1|   No|    40-44|\n",
            "|         5|  Male| 45|      One Year|          98.2|      3142.0|   No|    45-49|\n",
            "|        15|Female| 50|      One Year|         105.5|      4759.1|  Yes|    50-54|\n",
            "|        12|Female| 35|      One Year|          94.7|      1950.2|   No|    35-39|\n",
            "|         3|  Male| 52|      Two Year|         115.5|      5408.6|   No|    50-54|\n",
            "|        14|  Male| 38|Month-to-Month|          79.1|       148.2|  Yes|    35-39|\n",
            "|         6|Female| 55|      Two Year|          99.9|      6541.5|   No|    55-59|\n",
            "|         2|  Male| 37|      One Year|          89.0|      2356.8|   No|    35-39|\n",
            "|         1|Female| 25|Month-to-Month|          65.7|       156.5|   No|    25-29|\n",
            "|         9|  Male| 48|      One Year|         101.8|      5149.6|  Yes|    45-49|\n",
            "|        19|Female| 31|      One Year|          85.9|      1673.8|   No|    30-34|\n",
            "+----------+------+---+--------------+--------------+------------+-----+---------+\n",
            "\n"
          ]
        }
      ]
    },
    {
      "cell_type": "code",
      "source": [
        "# Add a new column 'Month_Total_Ratio' by dividing 'MonthlyCharges' / 'TotalCharges'\n",
        "df_with_ratio = df_with_age_group.withColumn(\n",
        "    'Month_Total_Ratio',\n",
        "    F.col('MonthlyCharges') / F.col('TotalCharges')\n",
        ")\n",
        "\n",
        "# Show the updated DataFrame\n",
        "df_with_ratio.show()"
      ],
      "metadata": {
        "colab": {
          "base_uri": "https://localhost:8080/"
        },
        "id": "y3ckYr-zumBw",
        "outputId": "d9c6d5a0-0489-458f-fd71-bd1d7858a8ca"
      },
      "execution_count": 17,
      "outputs": [
        {
          "output_type": "stream",
          "name": "stdout",
          "text": [
            "+----------+------+---+--------------+--------------+------------+-----+---------+--------------------+\n",
            "|CustomerID|Gender|Age|      Contract|MonthlyCharges|TotalCharges|Churn|Age_group|   Month_Total_Ratio|\n",
            "+----------+------+---+--------------+--------------+------------+-----+---------+--------------------+\n",
            "|        16|  Male| 47|      Two Year|         112.3|      5432.0|  Yes|    45-49|0.020673785539719772|\n",
            "|        20|  Male| 39|      Two Year|          97.1|      3992.4|   No|    35-39|0.024321210512283167|\n",
            "|        17|Female| 26|Month-to-Month|          68.2|       289.1|   No|    25-29| 0.23590451576753818|\n",
            "|        11|  Male| 42|Month-to-Month|          78.9|       547.6|   No|    40-44|  0.1440832816719086|\n",
            "|        18|  Male| 33|Month-to-Month|          75.5|       462.5|  Yes|    30-34| 0.16324324324324324|\n",
            "|         7|  Male| 32|Month-to-Month|          82.1|       267.7|  Yes|    30-34| 0.30668656978105546|\n",
            "|         4|Female| 30|Month-to-Month|          75.9|       129.4|  Yes|    30-34|  0.5865533624877629|\n",
            "|         8|Female| 28|Month-to-Month|          61.5|       346.9|   No|    25-29| 0.17728452315381624|\n",
            "|        10|Female| 60|      Two Year|         108.1|      6742.8|  Yes|    60-64| 0.01603191576279211|\n",
            "|        13|  Male| 41|      Two Year|          96.5|      4188.1|   No|    40-44|0.023041474117107053|\n",
            "|         5|  Male| 45|      One Year|          98.2|      3142.0|   No|    45-49| 0.03125397738645518|\n",
            "|        15|Female| 50|      One Year|         105.5|      4759.1|  Yes|    50-54|0.022168056530678222|\n",
            "|        12|Female| 35|      One Year|          94.7|      1950.2|   No|    35-39| 0.04855912179227415|\n",
            "|         3|  Male| 52|      Two Year|         115.5|      5408.6|   No|    50-54|0.021354878880775544|\n",
            "|        14|  Male| 38|Month-to-Month|          79.1|       148.2|  Yes|    35-39|  0.5337381923276706|\n",
            "|         6|Female| 55|      Two Year|          99.9|      6541.5|   No|    55-59|0.015271726901456685|\n",
            "|         2|  Male| 37|      One Year|          89.0|      2356.8|   No|    35-39|  0.0377630677851749|\n",
            "|         1|Female| 25|Month-to-Month|          65.7|       156.5|   No|    25-29| 0.41980828720921526|\n",
            "|         9|  Male| 48|      One Year|         101.8|      5149.6|  Yes|    45-49|0.019768525928467784|\n",
            "|        19|Female| 31|      One Year|          85.9|      1673.8|   No|    30-34|0.051320348321186836|\n",
            "+----------+------+---+--------------+--------------+------------+-----+---------+--------------------+\n",
            "\n"
          ]
        }
      ]
    },
    {
      "cell_type": "code",
      "source": [
        "# Feature Scaling \n",
        "# Define the numerical columns\n",
        "numerical_columns = ['Age', 'MonthlyCharges', 'TotalCharges', 'Month_Total_Ratio']\n",
        "\n",
        "# Assemble the numerical columns into a vector column\n",
        "assembler = VectorAssembler(inputCols=numerical_columns, outputCol=\"vFeatures\")\n",
        "\n",
        "# Create a MinMaxScaler object\n",
        "scaler = MinMaxScaler(inputCol=\"vFeatures\", outputCol=\"scaled_features\")\n"
      ],
      "metadata": {
        "id": "dxZA9dYdu_7A"
      },
      "execution_count": 18,
      "outputs": []
    },
    {
      "cell_type": "code",
      "source": [
        "#Categorical encoding\n",
        "\n",
        "catCols = ['Gender', 'Contract', 'Churn', 'Age_group']\n",
        "indexers = []\n",
        "\n",
        "# Iterate over the categorical columns\n",
        "for col in catCols:\n",
        "    # Create a StringIndexer object, and specify the input and output columns\n",
        "    stringindexer = StringIndexer(inputCol=col, outputCol=col+\"_index\")\n",
        "    indexers.append(stringindexer)\n",
        "\n",
        "# Create a Pipeline to chain the StringIndexer stages\n",
        "#-pipeline = Pipeline(stages=indexers)\n",
        "pipeline = Pipeline(stages=[assembler, scaler] + indexers)\n",
        "\n",
        "pipeline_model = pipeline.fit(df_with_ratio)\n",
        "df_encoded = pipeline_model.transform(df_with_ratio)\n",
        "\n"
      ],
      "metadata": {
        "id": "EM0AlU7fxkmk"
      },
      "execution_count": 19,
      "outputs": []
    },
    {
      "cell_type": "markdown",
      "source": [
        "### Model Selection and Training"
      ],
      "metadata": {
        "id": "pWrjDYuWR_c1"
      }
    },
    {
      "cell_type": "code",
      "source": [
        "#Feature and Label Target selection\n",
        "\n",
        "feature_columns = [\"scaled_features\", \"Gender_index\", \"Contract_index\", \"Age_group_index\"]\n",
        "label_column = \"Churn_index\"\n",
        "\n",
        "# Vectorize Features\n",
        "vectorAssembler = VectorAssembler(inputCols=feature_columns, outputCol=\"mainFeatures\")\n",
        "v_data = vectorAssembler.transform(df_encoded)\n",
        "\n",
        "#Drop columns which are no longer needed\n",
        "columns_to_drop = [\"CustomerID\", \"Gender\", \"Age\", \"Contract\", \"MonthlyCharges\", \"TotalCharges\", \"Churn\", \"Age_group\", \"Month_Total_Ratio\", \"vFeatures\", \"scaled_features\", \"Gender_index\", \"Contract_index\", \"Age_group_index\"]\n",
        "v_data = v_data.drop(*columns_to_drop)\n",
        "\n",
        "# Split the Data for Training and Testing\n",
        "splits = v_data.randomSplit([0.8, 0.2], seed=42)\n",
        "train_data = splits[0]\n",
        "test_data = splits[1]\n",
        "\n",
        "# Verify the result\n",
        "#train_data.show(truncate=False)\n",
        "print(\"Size of Training DataFrame: {} rows\".format(train_data.count()))\n",
        "print(\"Size of Testing DataFrame: {} rows\".format(test_data.count()))\n",
        "train_data.printSchema()\n"
      ],
      "metadata": {
        "colab": {
          "base_uri": "https://localhost:8080/"
        },
        "id": "RRxFMf8T2qDL",
        "outputId": "70c4cd3e-07c4-4e08-9f38-fcf3f852a866"
      },
      "execution_count": 20,
      "outputs": [
        {
          "output_type": "stream",
          "name": "stdout",
          "text": [
            "Size of Training DataFrame: 15 rows\n",
            "Size of Testing DataFrame: 5 rows\n",
            "root\n",
            " |-- Churn_index: double (nullable = false)\n",
            " |-- mainFeatures: vector (nullable = true)\n",
            "\n"
          ]
        }
      ]
    },
    {
      "cell_type": "code",
      "source": [
        "# Model Selection and Training\n",
        "lr = LogisticRegression(labelCol=\"Churn_index\", featuresCol=\"mainFeatures\")\n",
        "\n",
        "# Create a ParamGrid for grid search\n",
        "param_grid = ParamGridBuilder() \\\n",
        "    .addGrid(lr.regParam, [0.01, 0.1, 1.0]) \\\n",
        "    .addGrid(lr.elasticNetParam, [0.0, 0.5, 1.0]) \\\n",
        "    .build()\n",
        "\t\t   \n",
        "# Define the evaluator\n",
        "evaluator = BinaryClassificationEvaluator(labelCol=\"Churn_index\")\n",
        "\n",
        "# Create CrossValidator with the LogisticRegression model and BinaryClassificationEvaluator\n",
        "cross_validator = CrossValidator(estimator=lr,estimatorParamMaps=param_grid,evaluator=evaluator,numFolds=2)  \n",
        "\n",
        "# Fit the cross-validator to the training data\n",
        "cvModel = cross_validator.fit(train_data)\n",
        "\n",
        "# Evaluate the model using the evaluator\n",
        "accuracy = evaluator.evaluate(cvModel.transform(test_data))\n",
        "\n",
        "# Get the best model\n",
        "best_model = cvModel.bestModel\n",
        "\n"
      ],
      "metadata": {
        "id": "OAa2In-n67_C"
      },
      "execution_count": 21,
      "outputs": []
    },
    {
      "cell_type": "markdown",
      "source": [
        "### Model Evaluation"
      ],
      "metadata": {
        "id": "XzgATJEXSBtt"
      }
    },
    {
      "cell_type": "code",
      "source": [
        "# Print the best parameters\n",
        "best_params = best_model.extractParamMap()\n",
        "print(\"Best Parameters:\")\n",
        "for param in best_params:\n",
        "    print(param.name, \"=\", best_params[param])"
      ],
      "metadata": {
        "colab": {
          "base_uri": "https://localhost:8080/"
        },
        "id": "_hl_KjsmjrDD",
        "outputId": "8f3d95b3-5ed9-4930-b7dd-8a6596ac637b"
      },
      "execution_count": 22,
      "outputs": [
        {
          "output_type": "stream",
          "name": "stdout",
          "text": [
            "Best Parameters:\n",
            "aggregationDepth = 2\n",
            "elasticNetParam = 0.5\n",
            "family = auto\n",
            "featuresCol = mainFeatures\n",
            "fitIntercept = True\n",
            "labelCol = Churn_index\n",
            "maxBlockSizeInMB = 0.0\n",
            "maxIter = 100\n",
            "predictionCol = prediction\n",
            "probabilityCol = probability\n",
            "rawPredictionCol = rawPrediction\n",
            "regParam = 0.01\n",
            "standardization = True\n",
            "threshold = 0.5\n",
            "tol = 1e-06\n"
          ]
        }
      ]
    },
    {
      "cell_type": "code",
      "source": [
        "# Create a new instance of LogisticRegression\n",
        "lr_best = LogisticRegression(labelCol=\"Churn_index\", featuresCol=\"mainFeatures\")\n",
        "\n",
        "# Set the best parameters obtained from the CrossValidator above\n",
        "lr_best.setParams(aggregationDepth=2,\n",
        "                  elasticNetParam=0.5,\n",
        "                  family=\"auto\",\n",
        "                  fitIntercept=True,\n",
        "                  maxIter=100,\n",
        "                  regParam=0.01,\n",
        "                  standardization=True,\n",
        "                  threshold=0.5,\n",
        "                  tol=1e-06)\n",
        "\n",
        "# Train the logistic regression model with the best parameters\n",
        "model_best = lr_best.fit(train_data)\n",
        "\n",
        "# Make predictions on the test data using the best model\n",
        "predictions_best = model_best.transform(test_data)\n"
      ],
      "metadata": {
        "id": "Nn_Xn_ahkKx_"
      },
      "execution_count": 23,
      "outputs": []
    },
    {
      "cell_type": "code",
      "source": [
        "# Print model evaluation metrics\n",
        "evaluator = MulticlassClassificationEvaluator(labelCol=\"Churn_index\")\n",
        "\n",
        "accuracy_lr = evaluator.evaluate(predictions_best, {evaluator.metricName: \"accuracy\"})\n",
        "precision_lr = evaluator.evaluate(predictions_best, {evaluator.metricName: \"weightedPrecision\"})\n",
        "recall_lr = evaluator.evaluate(predictions_best, {evaluator.metricName: \"weightedRecall\"})\n",
        "f1_lr = evaluator.evaluate(predictions_best, {evaluator.metricName: \"f1\"})\n",
        "\n",
        "print(\"Logistic Regression accuracy:\", accuracy_lr)\n",
        "print(\"Logistic Regression Precision:\", precision_lr)\n",
        "print(\"Logistic Regression recall:\", recall_lr)\n",
        "print(\"Logistic Regression F1-score:\", f1_lr)"
      ],
      "metadata": {
        "colab": {
          "base_uri": "https://localhost:8080/"
        },
        "id": "rFkhLKusmKqG",
        "outputId": "5ea8415b-eeeb-4848-8d4b-57dc4afec316"
      },
      "execution_count": 24,
      "outputs": [
        {
          "output_type": "stream",
          "name": "stdout",
          "text": [
            "Logistic Regression accuracy: 0.8\n",
            "Logistic Regression Precision: 0.8500000000000001\n",
            "Logistic Regression recall: 0.8\n",
            "Logistic Regression F1-score: 0.7809523809523808\n"
          ]
        }
      ]
    },
    {
      "cell_type": "markdown",
      "source": [
        "```Success! ...project accuracy level of 0.8 achieved ...``` "
      ],
      "metadata": {
        "id": "tHKAvkiSK3_V"
      }
    },
    {
      "cell_type": "markdown",
      "source": [
        "### Documentation and Reporting "
      ],
      "metadata": {
        "id": "G53qRAjySKNT"
      }
    },
    {
      "cell_type": "markdown",
      "source": [
        "#### Project Findings"
      ],
      "metadata": {
        "id": "pLDYzVQL_Frq"
      }
    },
    {
      "cell_type": "markdown",
      "source": [
        "Below the model accuracy, precision, recall and F1 scores:\n",
        "\n",
        "<b><i>Logistic Regression accuracy: 0.8\n",
        "<br>Logistic Regression Precision: 0.8500000000000001\n",
        "<br>Logistic Regression recall: 0.8\n",
        "<br>Logistic Regression F1-score: 0.7809523809523808</i></b>\n",
        "\n",
        "<i>Project minimum target accuracy of 0.8 was achieved. To improve this score a larger dataset is required to raise model's ability to generalize</i>"
      ],
      "metadata": {
        "id": "s7l2qDQHQ1tu"
      }
    },
    {
      "cell_type": "markdown",
      "source": [
        "#### Challenges"
      ],
      "metadata": {
        "id": "hiunzUHi_I2r"
      }
    },
    {
      "cell_type": "markdown",
      "source": [
        "The dataset provided was small. Below some challenges of using small dataset to train the model:\n",
        "\n",
        "1.<b><i>Risk of overfitting</i></b>:In small datasets, overfitting becomes more likely because the model has fewer examples to learn from. The model may memorize the limited training data instead of capturing meaningful relationships, resulting in poor performance on new data.\n",
        "\n",
        "2.<b><i>Increased sensitivity to outliers and noise</i></b>: Small datasets are more susceptible to the influence of outliers and noisy data points. An individual outlier can have a disproportionately large impact on the model's training and may lead to misleading results. \n",
        "\n",
        "3.<b><i>Limited representation of the underlying population</i></b>: With a small dataset, there is a risk of insufficiently representing the true distribution and variability of the underlying population. This can lead to biased or unreliable models that do not generalize well to unseen data."
      ],
      "metadata": {
        "id": "GWUOtgSiAzgz"
      }
    },
    {
      "cell_type": "markdown",
      "source": [
        "#### Learning Lessons"
      ],
      "metadata": {
        "id": "X38Kv8Hn_LCb"
      }
    },
    {
      "cell_type": "markdown",
      "source": [
        "When working with small dataset, the actions below can aid in improving overall model performance:\n",
        "\n",
        "1.<b><i>Feature engineering</i></b>: Feature engineering involves creating new features better represent the underlying patterns in the data. By carefully selecting and creating informative features, it can enhance the model's ability to capture relevant information even with limited data.\n",
        "\n",
        "2.<b><i>Cross-validation</i></b>: By partitioning the small dataset into multiple folds, we can train and evaluate the model on different subsets of the data. This allows for a more robust assessment of the model's performance and helps in selecting the best hyperparameters. Caveat! - The more the folds the greater the compute power needed.\n"
      ],
      "metadata": {
        "id": "ZpN7LVb0CeCt"
      }
    }
  ]
}